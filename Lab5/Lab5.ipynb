{
 "cells": [
  {
   "cell_type": "markdown",
   "metadata": {},
   "source": [
    "## Лабораторная работа №5\n",
    "### Численное интегрирование функций\n",
    "\n",
    "#### В работе были использованы методы трапеций, трапеций с правилом Рунге-Ричардсона и Симпсона.\n",
    "#### В качестве примера решена задача VII.9.5 в), в которой таблично задана функция $f(x) = \\frac{\\tan x}{x}$:\n",
    "\n",
    "| x  | f(x) |\n",
    "|------|------------|\n",
    "| 0.0  | 1.0        |\n",
    "| 0.15 | 1.007568   |\n",
    "| 0.3  | 1.031121   |\n",
    "| 0.45 | 1.073456   |\n",
    "| 0.6  | 1.140228   |\n",
    "| 0.75 | 1.242129   |\n",
    "| 0.9  | 1.400176   |\n",
    "| 1.05 | 1.6603     |\n",
    "| 1.2  | 2.14346    |\n",
    "\n",
    "#### Истинное значение интеграла равно: $$I = 1.510587759299255 ± 1.677089311091417 \\cdot 10^{-14}$$\n",
    "\n",
    "#### Численно проинтегрируем функцию методом трапеций, Ричардсона и Симпсона и найдем ошибку относительно истинного значения\n",
    "#### Результаты вычислений приведены ниже:\n",
    "```\n",
    "Integral by Trapezoidal method: 1.5190061999999998 (ε = 0.56%)\n",
    "Integral by Richardson method: 1.5110160999999998 (ε = 0.03%)\n",
    "Integral by Simpson method: 1.5110161000000002 (ε = 0.03%)\n",
    "```\n",
    "\n"
   ]
  },
  {
   "cell_type": "code",
   "execution_count": 68,
   "metadata": {},
   "outputs": [
    {
     "name": "stdout",
     "output_type": "stream",
     "text": [
      "Integral by Trapezoidal method: 1.5190061999999998 (ε = 0.56%)\n",
      "Integral by Richardson method: 1.5110160999999998 (ε = 0.03%)\n",
      "Integral by Simpson method: 1.5110161000000002 (ε = 0.03%)\n"
     ]
    }
   ],
   "source": [
    "import numpy as np\n",
    "\n",
    "def GetDiff(I):\n",
    "    I_0 = 1.510587759299255\n",
    "    return abs(I - I_0) / I_0 * 100\n",
    "\n",
    "def GetFunc():\n",
    "    x = np.arange(0.0, 1.3, 0.15)\n",
    "    f = np.array([1.0, 1.007568, 1.031121, 1.073456, 1.140228, \\\n",
    "                  1.242129, 1.400176, 1.660300, 2.143460])\n",
    "    return x, f\n",
    "\n",
    "def TrapezoidalMethod(x, f):\n",
    "    I_t = 0.0;\n",
    "    for i in range(len(x) - 1):\n",
    "        I_t += 0.5 * (f[i + 1] + f[i]) * (x[i + 1] - x[[i]])\n",
    "    return float (I_t)\n",
    "\n",
    "def RichardsonMethod(x, f):\n",
    "    I_h1 = TrapezoidalMethod(x, f)\n",
    "    I_h2 = 0.0\n",
    "    for i in range(0, len(x) - 2, 2):\n",
    "        I_h2 += 0.5 * (f[i + 2] + f[i]) * (x[i + 2] - x[[i]])\n",
    "    I_r = (4 * I_h1 - I_h2) / 3\n",
    "    return float (I_r)\n",
    "\n",
    "def SimpsonMethod(x, f):\n",
    "    summ_even = 0.0\n",
    "    summ_odd = 0.0\n",
    "    for i in range(1, len(x) - 1):\n",
    "        if i % 2 == 0:\n",
    "            summ_even += f[i]\n",
    "        else:\n",
    "            summ_odd += f[i]\n",
    "    I_s = 1/3 * (x[1] - x[0]) * (f[0] + 4 * summ_odd + 2 * summ_even + f[-1])\n",
    "    return I_s\n",
    "\n",
    "def main():\n",
    "    x, f = GetFunc()\n",
    "    I_t = TrapezoidalMethod(x, f)\n",
    "    I_r = RichardsonMethod(x, f)\n",
    "    I_s = SimpsonMethod(x, f)\n",
    "    print(\"Integral by Trapezoidal method:\", I_t, f\"(ε = {GetDiff(I_t):.{2}f}%)\")\n",
    "    print(\"Integral by Richardson method:\", I_r, f\"(ε = {GetDiff(I_r):.{2}f}%)\")\n",
    "    print(\"Integral by Simpson method:\", I_s, f\"(ε = {GetDiff(I_s):.{2}f}%)\")\n",
    "\n",
    "main()"
   ]
  }
 ],
 "metadata": {
  "language_info": {
   "name": "python"
  },
  "orig_nbformat": 4
 },
 "nbformat": 4,
 "nbformat_minor": 2
}
